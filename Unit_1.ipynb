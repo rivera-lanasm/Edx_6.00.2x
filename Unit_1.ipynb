{
 "cells": [
  {
   "cell_type": "markdown",
   "metadata": {
    "collapsed": true
   },
   "source": [
    "# UNIT 1"
   ]
  },
  {
   "cell_type": "markdown",
   "metadata": {},
   "source": [
    "## Lecture 1.1; Optimization and the Knapsack Problem "
   ]
  },
  {
   "cell_type": "markdown",
   "metadata": {},
   "source": [
    "**optimization problems:** <br>\n",
    "characterized by\n",
    "- an objective function\n",
    "- set of constraints \n",
    "often only approximate solutions using a greedy algorithn \n",
    "\n",
    "__the Knapsack Problem__ <br>\n",
    "define set that maximizes objective function while respecting constraints \n",
    "two variants \n",
    "\n",
    "1) 0/1 knapsack <br>\n",
    "2) continuous knapsack \n",
    "\n",
    "**=========================================================**\n",
    "\n",
    "**0/1 knapsack** <br>\n",
    "represent item, (value, weight)\n",
    "constraint --> on sum(weight i), w\n",
    "\n",
    "vector L, on length n, to represnt the set of the available items <br> \n",
    "vector V, of length n, to indicate whether item is taken (1) or left (0)\n",
    "\n",
    "**Maximize** <br>\n",
    " Sum \\[0,1,0,1,...,1\\] . \\[(value, weight)\\[0\\] ,..., (value, weight)\\[0\\]\\] <br>\n",
    "\n",
    "**Constraint** <br>\n",
    " Sum \\[0,1,0,1,...,1\\] . \\[\\(value, weight)\\[1\\] ,..., (value, weight)\\[1\\]\\]  <= w <br>\n",
    "\n",
    "**=========================================================**\n",
    "\n",
    "**Solving** \n",
    "\n",
    "1) Brute force algorithm \n",
    "\n",
    "- generate all combinations --> the power set (set of all subsets)\n",
    "- remove combinations where constraint broken\n",
    "- from remaining, max obj function (sometimes one of many \n",
    "\n",
    "Not practical! \n",
    "\n",
    "how large is the power set?\n",
    "for vector, V, of length, n \n",
    "how many combinations? (how mnay numbers can we represent in n bits?) <br>\n",
    "**2^n !**\n",
    "an exponential algorithm \n",
    "\n",
    "0/1 knapsack is inherently exponential <br>\n",
    "**How can we solve it (approximately or even optimally) in practice?**\n",
    "\n",
    "\n"
   ]
  },
  {
   "cell_type": "markdown",
   "metadata": {},
   "source": [
    "## Lecture 1.2; Greedy Algorithms "
   ]
  },
  {
   "cell_type": "markdown",
   "metadata": {},
   "source": [
    "**options:** <br>\n",
    "- approximate solutions\n",
    "- exact solutions that are often fast \n",
    "\n",
    "**===================================**\n",
    "\n",
    "**approximate solution --> Greedy Algorithm** <br>\n",
    "while knapsack not full: <br>\n",
    "---> put \"best\" available item in knapsack\n",
    "\n",
    "what \"best\" means must be defined based on value and cost (weight)\n",
    "\n",
    "**food menu example**\n",
    "first abstract data objects, like a <br>Food class. With attributes like value, cost, density, etc <br> Menu method, builds list of (name, value, cost) tuples <br> \n",
    "\n",
    "**Flexible Greedy Algorithm**\n",
    "an implementation of greedy alg that is independent of the key (\"best\") function used <br>\n",
    "takes items (list of (name, value, cost) tuples) and sorts (using sorted() method) according to function given to define what is best. Can be simply the value of the item, the ratio of value to cost, inverse of cost, etc. <br>\n",
    "\n",
    "**Logic** <br>\n",
    "for item in sorted list: <br>\n",
    "if (totalCost + item\\[i\\].get_cost() <= max_cost: <br>\n",
    "----> append item to result, add cost to totalCost, add value to totalValue <br>\n",
    "\n",
    "goes into greedy(items, maxCost, keyFunction) method \n",
    "testGreedy, a method that runs greedy() to test differnt KeyFunctions\n",
    "\n",
    "<br>\n",
    "**Complexity** <br>\n",
    "sorting can be done in nlogn...lower bount <br>\n",
    "for loop... order n <br>\n",
    "**n log n complexity for greedy alg.**\n",
    "\n",
    "**===================================**\n",
    "\n",
    "**why different answers from different key functions?**\n",
    "local optimal choices don't always yield global optimal solution <br>\n",
    "\n",
    "easy to implement, and efficient, but we often don't know how good approximation of optimal solution is =(\n",
    "\n",
    "\n"
   ]
  },
  {
   "cell_type": "code",
   "execution_count": null,
   "metadata": {},
   "outputs": [
    {
     "name": "stdout",
     "output_type": "stream",
     "text": [
      "5\n",
      "hello miguel\n",
      "factor\n"
     ]
    }
   ],
   "source": [
    "# lamda expressions; anonymous functions\n",
    "\n",
    "f2 = lambda x,y: x+y\n",
    "print(f2(2,3))\n",
    "print(f2(\"hello \", \"miguel\"))\n",
    "\n",
    "f3 = lambda x,y: 'factor' if (x%y == 0) else 'not factor'\n",
    "print(f3(10,2))\n",
    "\n",
    "\n",
    "\n"
   ]
  },
  {
   "cell_type": "markdown",
   "metadata": {},
   "source": [
    "## Exercise 3 "
   ]
  },
  {
   "cell_type": "code",
   "execution_count": null,
   "metadata": {},
   "outputs": [],
   "source": [
    "NUMBER = 3\n",
    "def look_for_things(myList):\n",
    "    \"\"\"Looks at all elements\"\"\"\n",
    "    for n in myList:\n",
    "        if n == NUMBER:\n",
    "            return True\n",
    "    return False\n",
    "\n",
    "# runtime : n "
   ]
  },
  {
   "cell_type": "code",
   "execution_count": null,
   "metadata": {},
   "outputs": [],
   "source": [
    "NUMBER = 3\n",
    "def look_for_other_things(myList):\n",
    "    \"\"\"Looks at all pairs of elements\"\"\"\n",
    "    for n in myList:\n",
    "        for m in myList:\n",
    "            if n - m == NUMBER or m - n == NUMBER:\n",
    "                return True\n",
    "    return False\n",
    "# runtime : n ^ 2"
   ]
  },
  {
   "cell_type": "code",
   "execution_count": null,
   "metadata": {},
   "outputs": [],
   "source": [
    "def get_all_subsets(some_list):\n",
    "    \"\"\"Returns all subsets of size 0 - len(some_list) for some_list\"\"\"\n",
    "    if len(some_list) == 0:\n",
    "        # If the list is empty, return the empty list\n",
    "        return [[]]\n",
    "    subsets = []\n",
    "    first_elt = some_list[0]\n",
    "    rest_list = some_list[1:]\n",
    "    # Strategy: Get all the subsets of rest_list; for each\n",
    "    # of those subsets, a full subset list will contain both\n",
    "    # the original subset as well as a version of the subset\n",
    "    # that contains first_elt\n",
    "    for partial_subset in get_all_subsets(rest_list):\n",
    "        subsets.append(partial_subset)\n",
    "        next_subset = partial_subset[:] + [first_elt]\n",
    "        subsets.append(next_subset)\n",
    "    return subsets\n",
    "\n",
    "NUMBER = 3\n",
    "def look_for_all_the_things(myList):\n",
    "    \"\"\"Looks at all subsets of this list\"\"\"\n",
    "    # Make subsets\n",
    "    all_subsets = get_all_subsets(myList)\n",
    "    for subset in all_subsets:\n",
    "        if sum(subset) == NUMBER:\n",
    "            return True\n",
    "    return False\n",
    "\n",
    "# runtime : 2^n"
   ]
  },
  {
   "cell_type": "markdown",
   "metadata": {},
   "source": [
    "## Lecture 2; Brute Force Algorithms  "
   ]
  },
  {
   "cell_type": "markdown",
   "metadata": {},
   "source": [
    "**recall that greedy solutions are easy to implement and computationally efficient, but optimality of result is uncertain**\n",
    "\n",
    "**on finding optimal solutions:**\n",
    "\n",
    "**Brute Force Algorithm**\n",
    "- enumerate all possible combos \n",
    "- drop those that fail filter \n",
    "- sort remaining by value, accumulate \n",
    "\n",
    "**Search Tree (Decision Trees)** <br>\n",
    "- built from top down starting with the root <br>\n",
    "- first element selected from still to be considered items <br>\n",
    "- nodes represent consequences of choosing a given item, where 1 is left child and 0 is right child <br>\n",
    "- consequences of both choices are considered <br>\n",
    "\n",
    "process applied recursively to non-leaf children\n",
    "\n",
    "**How to traverse the tree**\n",
    "- Left-first, depth-first enumeration \n",
    "traverse, then evaluate leaf-nodes: choose best among eligible leaf nodes <br>\n",
    "\n",
    "**computational complexity:** <br>\n",
    "proportional to number of nodes in tree, which is based on number of levels and number of nodes per level <br>\n",
    "number of levels equals number of items in set <br>\n",
    "number of nodes in level i is 2^i <br>\n",
    "sum( 2^i)  <br>\n",
    "order 2^(i+1) <br>\n"
   ]
  },
  {
   "cell_type": "markdown",
   "metadata": {},
   "source": [
    "**Header for decision tree implementation**\n",
    "\n",
    "takes in 1) a list of not yet considred items, and 2) the available weight, both which update as recursive algorithm develops <br>\n",
    "returns a tuple of total value and the items in solution  <br>\n",
    "toConsider,, the list, are items that nodes higher up in tree (equivalent to earlier calls in recursive call stack) have not yet considered <br>\n",
    " \n",
    " **Body**\n",
    "if nothing to consider or no available weight, return 0,0 tuple <br>\n",
    "otherwise, look at next available item. If weight exceeds available weight, skip, and call again on remaining items <br>\n",
    "else, consider next item (a list of 1 item) <br>\n",
    "next item is the first element of consideration list <br>\n",
    "\n",
    "\n"
   ]
  },
  {
   "cell_type": "code",
   "execution_count": 1,
   "metadata": {},
   "outputs": [],
   "source": [
    "def maxVal(toConsider, avail):\n",
    "    \"\"\"assumes toConsider a list of items, avail a weight constraint\n",
    "    return a tuple of the toal value of a solution to the 0/1 knapsack \n",
    "    problem and the items of that solution \n",
    "    \"\"\"\n",
    "    if toConsider == [] or avail ==0:\n",
    "        # is bag full, end\n",
    "        returlt = (0,())\n",
    "    elif toConsider[0].getUnits() > avail:\n",
    "        # is next item too large , then skip\n",
    "        result = maxVal(toConsider[1:], avail)\n",
    "    else:\n",
    "        # store next available item in nextItem\n",
    "        nextItem = toConsider[0]\n",
    "        # first consider left branch, recursive call \n",
    "        withVal, withToTake = maxVal(toConsider[1:], \n",
    "                                    avail - nextItem.getUnits())\n",
    "        withVal += nextItem.getValue()\n",
    "        withoutVal, withoutToTake = maxVal(toConsider[1:], avail)\n",
    "    if withVal > withoutVal:\n",
    "        result = (withVVal, withToTake +  (nextItem,))\n",
    "    else:\n",
    "        result = (withoutVal, withoutToTake)\n",
    "    return result \n",
    "    "
   ]
  },
  {
   "cell_type": "markdown",
   "metadata": {},
   "source": [
    "**does not actually build the tree** \n"
   ]
  },
  {
   "cell_type": "code",
   "execution_count": null,
   "metadata": {},
   "outputs": [],
   "source": []
  },
  {
   "cell_type": "code",
   "execution_count": null,
   "metadata": {},
   "outputs": [],
   "source": []
  },
  {
   "cell_type": "code",
   "execution_count": null,
   "metadata": {},
   "outputs": [],
   "source": []
  },
  {
   "cell_type": "code",
   "execution_count": null,
   "metadata": {},
   "outputs": [],
   "source": []
  },
  {
   "cell_type": "code",
   "execution_count": null,
   "metadata": {},
   "outputs": [],
   "source": []
  }
 ],
 "metadata": {
  "kernelspec": {
   "display_name": "Python 3",
   "language": "python",
   "name": "python3"
  },
  "language_info": {
   "codemirror_mode": {
    "name": "ipython",
    "version": 3
   },
   "file_extension": ".py",
   "mimetype": "text/x-python",
   "name": "python",
   "nbconvert_exporter": "python",
   "pygments_lexer": "ipython3",
   "version": "3.7.1"
  }
 },
 "nbformat": 4,
 "nbformat_minor": 1
}
